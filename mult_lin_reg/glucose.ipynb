{
 "cells": [
  {
   "cell_type": "markdown",
   "metadata": {},
   "source": [
    "# Demo:  Predicting Glucose Levels using Mulitple Linear Regression"
   ]
  },
  {
   "cell_type": "markdown",
   "metadata": {},
   "source": [
    "In this demo, you will learn how to:\n",
    "* Fit multiple linear regression models using python's `sklearn` pachage.  \n",
    "* Split data into training and test.\n",
    "* Manipulate and visualize multivariable arrays.\n",
    "\n",
    "We first load the packages as usual."
   ]
  },
  {
   "cell_type": "code",
   "execution_count": 3,
   "metadata": {
    "collapsed": true
   },
   "outputs": [],
   "source": [
    "import numpy as np\n",
    "import matplotlib\n",
    "import matplotlib.pyplot as plt\n",
    "%matplotlib inline"
   ]
  },
  {
   "cell_type": "markdown",
   "metadata": {},
   "source": [
    "## Diabetes Data Example\n",
    "To illustrate the concepts, we load the well-known diabetes data set.  This dataset is included in the `sklearn.datasets` module and can be loaded as follows."
   ]
  },
  {
   "cell_type": "code",
   "execution_count": 6,
   "metadata": {},
   "outputs": [
    {
     "name": "stdout",
     "output_type": "stream",
     "text": [
      "[[ 0.03807591  0.05068012  0.06169621 ..., -0.00259226  0.01990842\n",
      "  -0.01764613]\n",
      " [-0.00188202 -0.04464164 -0.05147406 ..., -0.03949338 -0.06832974\n",
      "  -0.09220405]\n",
      " [ 0.08529891  0.05068012  0.04445121 ..., -0.00259226  0.00286377\n",
      "  -0.02593034]\n",
      " ..., \n",
      " [ 0.04170844  0.05068012 -0.01590626 ..., -0.01107952 -0.04687948\n",
      "   0.01549073]\n",
      " [-0.04547248 -0.04464164  0.03906215 ...,  0.02655962  0.04452837\n",
      "  -0.02593034]\n",
      " [-0.04547248 -0.04464164 -0.0730303  ..., -0.03949338 -0.00421986\n",
      "   0.00306441]]\n"
     ]
    }
   ],
   "source": [
    "from sklearn import datasets, linear_model\n",
    "\n",
    "# Load the diabetes dataset\n",
    "diabetes = datasets.load_diabetes()\n",
    "X = diabetes.data\n",
    "y = diabetes.target\n",
    "print(X)\n"
   ]
  },
  {
   "cell_type": "markdown",
   "metadata": {},
   "source": [
    "The target values `y` represent the blood glucose levels that we wish to predict.  The number of attributes and samples are computed from the shape:"
   ]
  },
  {
   "cell_type": "code",
   "execution_count": 3,
   "metadata": {},
   "outputs": [
    {
     "name": "stdout",
     "output_type": "stream",
     "text": [
      "num samples=442  num attributes=10\n"
     ]
    }
   ],
   "source": [
    "nsamp, natt = X.shape\n",
    "print(\"num samples={0:d}  num attributes={1:d}\".format(nsamp,natt))"
   ]
  },
  {
   "cell_type": "markdown",
   "metadata": {},
   "source": [
    "## Using Simple Linear Regression for Each Feature Individually\n",
    "\n",
    "As a first attempt to predict the glucouse level, we could try *one attribute at a time*.  That is, for each attribute $x_k$, we could attempt to fit a [simple linear regression](../simp_lin_reg/readme.md) model:\n",
    "$$ \\hat{y} = \\beta_{0,k} + \\beta_{1,k}x_k$$\n",
    "where $\\beta_{0,k}$ and $\\beta_{1,k}$ are the coefficients in the simple linear regression model using only the attribute $x_k$.\n",
    "\n",
    "Now, we saw in class, that the goodness of fit in a simple linear regression model is given by the coefficient of determination.  Let $R_k^2$ be the coefficient for predicting $y$ from the $k$-th predictor $x_k$:\n",
    "$$R^2_k = \\frac{|s_{x_k,y}|^2}{s_{x_k}^2 s_y^2}.$$\n",
    "The following code computes $R^2_k$ for each variable $k$ as well as the coefficients in the linear model, $\\beta_{0,k}$ and $\\beta_{1,k}$"
   ]
  },
  {
   "cell_type": "code",
   "execution_count": 4,
   "metadata": {},
   "outputs": [
    {
     "name": "stdout",
     "output_type": "stream",
     "text": [
      " 0  Rsq=0.035302\n",
      " 1  Rsq=0.001854\n",
      " 2  Rsq=0.343924\n",
      " 3  Rsq=0.194908\n",
      " 4  Rsq=0.044954\n",
      " 5  Rsq=0.030295\n",
      " 6  Rsq=0.155859\n",
      " 7  Rsq=0.185290\n",
      " 8  Rsq=0.320224\n",
      " 9  Rsq=0.146294\n"
     ]
    }
   ],
   "source": [
    "ym = np.mean(y)\n",
    "syy = np.mean((y-ym)**2)\n",
    "Rsq = np.zeros(natt)\n",
    "beta0 = np.zeros(natt)\n",
    "beta1 = np.zeros(natt)\n",
    "for k in range(natt):\n",
    "    xm = np.mean(X[:,k])\n",
    "    sxy = np.mean((X[:,k]-xm)*(y-ym))\n",
    "    sxx = np.mean((X[:,k]-xm)**2)\n",
    "    beta1[k] = sxy/sxx\n",
    "    beta0[k] = ym - beta1[k]*xm\n",
    "    Rsq[k] = (sxy)**2/sxx/syy\n",
    "    \n",
    "    print(\"{0:2d}  Rsq={1:f}\".format(k,Rsq[k]))\n",
    "    "
   ]
  },
  {
   "cell_type": "markdown",
   "metadata": {},
   "source": [
    "We see that the best $R^2_k = 0.34$.  That is, only about 34% of the variance is explained by a linear model with any one variable.  We can see this somewhat poor fit in the scatter plot as well where there is a significat variation from the regression line."
   ]
  },
  {
   "cell_type": "code",
   "execution_count": 5,
   "metadata": {},
   "outputs": [
    {
     "data": {
      "image/png": "[encoded data removed]",
      "text/plain": [
       "<matplotlib.figure.Figure at 0x114438850>"
      ]
     },
     "metadata": {},
     "output_type": "display_data"
    }
   ],
   "source": [
    "# Find the index of the single variable with the best R^2\n",
    "imax = np.argmax(Rsq)\n",
    "\n",
    "# Regression line over the range of x values\n",
    "xmin = np.min(X[:,imax])\n",
    "xmax = np.max(X[:,imax])\n",
    "ymin = beta0[imax] + beta1[imax]*xmin\n",
    "ymax = beta0[imax] + beta1[imax]*xmax\n",
    "plt.plot([xmin,xmax], [ymin,ymax], 'r-', linewidth=3)\n",
    "\n",
    "# Scatter plot of points\n",
    "plt.scatter(X[:,imax],y)\n",
    "plt.grid()"
   ]
  },
  {
   "cell_type": "markdown",
   "metadata": {},
   "source": [
    "Note that the calculations above could have been done without a for-loop using Python broadcasting:"
   ]
  },
  {
   "cell_type": "code",
   "execution_count": 6,
   "metadata": {
    "collapsed": true
   },
   "outputs": [],
   "source": [
    "# Remove the means\n",
    "ym = np.mean(y)\n",
    "y1 = y-ym\n",
    "Xm = np.mean(X,axis=0)\n",
    "X1 = X - Xm[None,:]\n",
    "\n",
    "# Compute the correlations per features\n",
    "syy = np.mean(y1**2)\n",
    "Sxx = np.mean(X1**2,axis=0)\n",
    "Sxy = np.mean(X1*y1[:,None],axis=0)\n",
    "\n",
    "# Compute the coefficients and R^2 value per feature\n",
    "beta1 = Sxy/Sxx\n",
    "beta0 = ym - beta1*Xm\n",
    "Rsq = Sxy**2/Sxx/syy"
   ]
  },
  {
   "cell_type": "markdown",
   "metadata": {},
   "source": [
    "## Improvements with a Multiple Variable Linear Model\n",
    "\n",
    "One possible way to try to improve the fit is to use multiple variables at the same time.  We can fit the multipe linear model using the `sklearn` package.  \n",
    "\n",
    "For reasons that we will explain in the next demo, we need to split the data into two parts:  one part for training the model and a second part for testing the fit.  In this example, we will use `ns_test=300` samples for training and the remaining `ns_test=442-300=142` for testing."
   ]
  },
  {
   "cell_type": "code",
   "execution_count": 7,
   "metadata": {
    "collapsed": true
   },
   "outputs": [],
   "source": [
    "ns_train = 300\n",
    "ns_test = nsamp - ns_train\n",
    "X_tr = X[:ns_train,:]     # Gets the first ns_train rows of X\n",
    "y_tr = y[:ns_train]       # Gets the correspoinding rows of y"
   ]
  },
  {
   "cell_type": "markdown",
   "metadata": {},
   "source": [
    "To fit the linear model, we first create a regression object and the fit the data with regression object."
   ]
  },
  {
   "cell_type": "code",
   "execution_count": 8,
   "metadata": {},
   "outputs": [
    {
     "name": "stderr",
     "output_type": "stream",
     "text": [
      "/usr/local/lib/python2.7/site-packages/scipy/linalg/basic.py:1018: RuntimeWarning: internal gelsd driver lwork query error, required iwork dimension not returned. This is likely the result of LAPACK bug 0038, fixed in LAPACK 3.2.2 (released July 21, 2010). Falling back to 'gelss' driver.\n",
      "  warnings.warn(mesg, RuntimeWarning)\n"
     ]
    },
    {
     "data": {
      "text/plain": [
       "LinearRegression(copy_X=True, fit_intercept=True, n_jobs=1, normalize=False)"
      ]
     },
     "execution_count": 8,
     "metadata": {},
     "output_type": "execute_result"
    }
   ],
   "source": [
    "regr = linear_model.LinearRegression()\n",
    "regr.fit(X_tr,y_tr)"
   ]
  },
  {
   "cell_type": "markdown",
   "metadata": {},
   "source": [
    "You can see the coefficients"
   ]
  },
  {
   "cell_type": "code",
   "execution_count": 9,
   "metadata": {},
   "outputs": [
    {
     "data": {
      "text/plain": [
       "array([ -16.57607993, -254.66532396,  560.98630022,  278.91811152,\n",
       "       -393.41357305,   97.05460405,  -19.0023093 ,  169.46450327,\n",
       "        632.95050374,  114.21638941])"
      ]
     },
     "execution_count": 9,
     "metadata": {},
     "output_type": "execute_result"
    }
   ],
   "source": [
    "regr.coef_"
   ]
  },
  {
   "cell_type": "markdown",
   "metadata": {},
   "source": [
    "We next compute the RSS (per sample) and the R^2 on the training data"
   ]
  },
  {
   "cell_type": "code",
   "execution_count": 10,
   "metadata": {},
   "outputs": [
    {
     "name": "stdout",
     "output_type": "stream",
     "text": [
      "RSS per sample = 0.485281\n",
      "R^2 =            0.514719\n"
     ]
    }
   ],
   "source": [
    "y_tr_pred = regr.predict(X_tr)\n",
    "RSS_tr = np.mean((y_tr_pred-y_tr)**2)/(np.std(y_tr)**2)\n",
    "Rsq_tr = 1-RSS_tr\n",
    "print(\"RSS per sample = {0:f}\".format(RSS_tr))\n",
    "print(\"R^2 =            {0:f}\".format(Rsq_tr))"
   ]
  },
  {
   "cell_type": "markdown",
   "metadata": {},
   "source": [
    "We see this is higher than the best single variable model -- more than 51% of the target variance is explained by the model instead of just 34% for the best single variable model.  \n",
    "\n",
    "We also create a scatter plot of predicted vs. actual"
   ]
  },
  {
   "cell_type": "code",
   "execution_count": 11,
   "metadata": {},
   "outputs": [
    {
     "data": {
      "image/png": "[encoded data removed]",
      "text/plain": [
       "<matplotlib.figure.Figure at 0x1145c0650>"
      ]
     },
     "metadata": {},
     "output_type": "display_data"
    }
   ],
   "source": [
    "plt.scatter(y_tr,y_tr_pred)\n",
    "plt.plot([0,350],[0,350],'r')\n",
    "plt.xlabel('Actual')\n",
    "plt.ylabel('Predicted')\n",
    "plt.grid()"
   ]
  },
  {
   "cell_type": "markdown",
   "metadata": {},
   "source": [
    "## Validate on Test Data\n",
    "\n",
    "As we will explain in the next lab, one should not evaluate the performance of a model on the data on which it is trained.  It is important to see how the model works on *new* data that is independent of the training data set.  For this reason, we will evaluate the model on the *test* samples that were not used in training."
   ]
  },
  {
   "cell_type": "code",
   "execution_count": 12,
   "metadata": {},
   "outputs": [
    {
     "name": "stdout",
     "output_type": "stream",
     "text": [
      "RSS per sample = 0.492801\n",
      "R^2 =            0.507199\n"
     ]
    }
   ],
   "source": [
    "X_test = X[ns_train:,:]\n",
    "y_test = y[ns_train:]\n",
    "y_test_pred = regr.predict(X_test)\n",
    "RSS_test = np.mean((y_test_pred-y_test)**2)/(np.std(y_test)**2)\n",
    "Rsq_test = 1-RSS_test\n",
    "print(\"RSS per sample = {0:f}\".format(RSS_test))\n",
    "print(\"R^2 =            {0:f}\".format(Rsq_test))"
   ]
  },
  {
   "cell_type": "markdown",
   "metadata": {},
   "source": [
    "We see that the model predicts new samples almost as well as it did the training samples.  We can also plot the fit on the test data."
   ]
  },
  {
   "cell_type": "code",
   "execution_count": 13,
   "metadata": {},
   "outputs": [
    {
     "data": {
      "image/png": "[encoded data removed]",
      "text/plain": [
       "<matplotlib.figure.Figure at 0x11445d310>"
      ]
     },
     "metadata": {},
     "output_type": "display_data"
    }
   ],
   "source": [
    "plt.scatter(y_test,y_test_pred)\n",
    "plt.plot([0,350],[0,350],'r')\n",
    "plt.xlabel('Actual')\n",
    "plt.xlabel('Predicted')\n",
    "plt.grid()"
   ]
  },
  {
   "cell_type": "markdown",
   "metadata": {},
   "source": [
    "## Manually computing the coefficients"
   ]
  },
  {
   "cell_type": "markdown",
   "metadata": {},
   "source": [
    "We can manually compute the regression coefficients using the least-squares matrix formula in class.  Of course, using the `sklearn` package is easier.  I illustrate the manual computation only to show what is happening \"under the hood\" of the lienar regression routine. \n",
    "\n",
    "To compute the coefficients manually, we first construct the matrix $\\mathbf{A} = [ \\mathbf{1} ~ \\mathbf{X} ]$.  This is performed with the `ones` command and `hstack`.  Note that after we do this, `A` has 11 columns -- one more column that the data matrix `X_tr`."
   ]
  },
  {
   "cell_type": "code",
   "execution_count": 14,
   "metadata": {},
   "outputs": [
    {
     "data": {
      "text/plain": [
       "(300, 11)"
      ]
     },
     "execution_count": 14,
     "metadata": {},
     "output_type": "execute_result"
    }
   ],
   "source": [
    "ones = np.ones((ns_train,1))\n",
    "A = np.hstack((ones,X_tr))\n",
    "A.shape"
   ]
  },
  {
   "cell_type": "markdown",
   "metadata": {},
   "source": [
    "We next use the `lstsq` method to solve $\\mathbf{y} \\approx \\mathbf{A\\beta}$.  This will find the desired least-squares fit."
   ]
  },
  {
   "cell_type": "code",
   "execution_count": 15,
   "metadata": {
    "collapsed": true
   },
   "outputs": [],
   "source": [
    "out = np.linalg.lstsq(A,y_tr)\n",
    "beta = out[0]"
   ]
  },
  {
   "cell_type": "markdown",
   "metadata": {},
   "source": [
    "We can see the coefficients"
   ]
  },
  {
   "cell_type": "code",
   "execution_count": 16,
   "metadata": {},
   "outputs": [
    {
     "data": {
      "text/plain": [
       "array([ 152.34786452,  -16.57607993, -254.66532396,  560.98630022,\n",
       "        278.91811152, -393.41357305,   97.05460405,  -19.0023093 ,\n",
       "        169.46450327,  632.95050374,  114.21638941])"
      ]
     },
     "execution_count": 16,
     "metadata": {},
     "output_type": "execute_result"
    }
   ],
   "source": [
    "beta"
   ]
  },
  {
   "cell_type": "markdown",
   "metadata": {},
   "source": [
    "We see that `beta[0]` mathches the intercept in `regr.intercept_` from the regression fit and `beta[1:]` matches the coefficients in `regr.coef_`."
   ]
  },
  {
   "cell_type": "code",
   "execution_count": 17,
   "metadata": {},
   "outputs": [
    {
     "data": {
      "text/plain": [
       "array([ -16.57607993, -254.66532396,  560.98630022,  278.91811152,\n",
       "       -393.41357305,   97.05460405,  -19.0023093 ,  169.46450327,\n",
       "        632.95050374,  114.21638941])"
      ]
     },
     "execution_count": 17,
     "metadata": {},
     "output_type": "execute_result"
    }
   ],
   "source": [
    "regr.coef_"
   ]
  },
  {
   "cell_type": "code",
   "execution_count": 18,
   "metadata": {},
   "outputs": [
    {
     "data": {
      "text/plain": [
       "152.34786451820108"
      ]
     },
     "execution_count": 18,
     "metadata": {},
     "output_type": "execute_result"
    }
   ],
   "source": [
    "regr.intercept_"
   ]
  },
  {
   "cell_type": "code",
   "execution_count": null,
   "metadata": {
    "collapsed": true
   },
   "outputs": [],
   "source": []
  },
  {
   "cell_type": "code",
   "execution_count": null,
   "metadata": {
    "collapsed": true
   },
   "outputs": [],
   "source": []
  }
 ],
 "metadata": {
  "anaconda-cloud": {},
  "kernelspec": {
   "display_name": "Python 2",
   "language": "python",
   "name": "python2"
  },
  "language_info": {
   "codemirror_mode": {
    "name": "ipython",
    "version": 2
   },
   "file_extension": ".py",
   "mimetype": "text/x-python",
   "name": "python",
   "nbconvert_exporter": "python",
   "pygments_lexer": "ipython2",
   "version": "2.7.13"
  }
 },
 "nbformat": 4,
 "nbformat_minor": 1
}
